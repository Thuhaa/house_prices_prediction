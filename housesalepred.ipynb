{
  "nbformat": 4,
  "nbformat_minor": 0,
  "metadata": {
    "colab": {
      "name": "Untitled0.ipynb",
      "provenance": [],
      "mount_file_id": "1s8rsdfKdaAkGJIYMt-_seTXWjRiuTsYM",
      "authorship_tag": "ABX9TyPO22UFHL9v3mp2j6jVx40B",
      "include_colab_link": true
    },
    "kernelspec": {
      "name": "python3",
      "display_name": "Python 3"
    }
  },
  "cells": [
    {
      "cell_type": "markdown",
      "metadata": {
        "id": "view-in-github",
        "colab_type": "text"
      },
      "source": [
        "<a href=\"https://colab.research.google.com/github/MathengeKen/advanced_regression_house_sale_prediction/blob/master/housesalepred.ipynb\" target=\"_parent\"><img src=\"https://colab.research.google.com/assets/colab-badge.svg\" alt=\"Open In Colab\"/></a>"
      ]
    },
    {
      "cell_type": "code",
      "metadata": {
        "id": "JZAH1mYLEpHs",
        "colab_type": "code",
        "colab": {
          "base_uri": "https://localhost:8080/",
          "height": 129
        },
        "outputId": "aa8d43ac-c08a-4668-90bf-6cb6ccea2725"
      },
      "source": [
        "from google.colab import drive\n",
        "drive.mount('/content/drive')"
      ],
      "execution_count": 4,
      "outputs": [
        {
          "output_type": "stream",
          "text": [
            "Go to this URL in a browser: https://accounts.google.com/o/oauth2/auth?client_id=947318989803-6bn6qk8qdgf4n4g3pfee6491hc0brc4i.apps.googleusercontent.com&redirect_uri=urn%3aietf%3awg%3aoauth%3a2.0%3aoob&response_type=code&scope=email%20https%3a%2f%2fwww.googleapis.com%2fauth%2fdocs.test%20https%3a%2f%2fwww.googleapis.com%2fauth%2fdrive%20https%3a%2f%2fwww.googleapis.com%2fauth%2fdrive.photos.readonly%20https%3a%2f%2fwww.googleapis.com%2fauth%2fpeopleapi.readonly\n",
            "\n",
            "Enter your authorization code:\n",
            "··········\n",
            "Mounted at /content/drive\n"
          ],
          "name": "stdout"
        }
      ]
    },
    {
      "cell_type": "code",
      "metadata": {
        "id": "36eSCOfgDdFO",
        "colab_type": "code",
        "colab": {
          "base_uri": "https://localhost:8080/",
          "height": 74
        },
        "outputId": "1b5afc41-b754-49b4-d38c-45b0fd0107c3"
      },
      "source": [
        "import numpy as np\n",
        "import pandas as pd\n",
        "from datetime import datetime\n",
        "from scipy.stats import skew\n",
        "from sklearn.linear_model import ElasticNetCV, LassoCV, RidgeCV\n",
        "from sklearn.ensemble import GradientBoostingRegressor\n",
        "import xgboost as xgb\n",
        "from lightgbm import LGBMRegressor\n",
        "from sklearn.svm import SVR\n",
        "from sklearn.pipeline import make_pipeline\n",
        "from sklearn.preprocessing import RobustScaler\n",
        "from sklearn.model_selection import KFold, cross_val_score\n",
        "from sklearn.metrics import mean_squared_error\n",
        "import matplotlib.pyplot as plt\n",
        "import seaborn as sns\n",
        "from sklearn.preprocessing import StandardScaler"
      ],
      "execution_count": 1,
      "outputs": [
        {
          "output_type": "stream",
          "text": [
            "/usr/local/lib/python3.6/dist-packages/statsmodels/tools/_testing.py:19: FutureWarning: pandas.util.testing is deprecated. Use the functions in the public API at pandas.testing instead.\n",
            "  import pandas.util.testing as tm\n"
          ],
          "name": "stderr"
        }
      ]
    },
    {
      "cell_type": "code",
      "metadata": {
        "id": "34d2BYsgdg4N",
        "colab_type": "code",
        "colab": {}
      },
      "source": [
        "test = pd.read_csv('/content/drive/My Drive/input/test.csv')\n",
        "test_idx = test[\"Id\"].values"
      ],
      "execution_count": 0,
      "outputs": []
    },
    {
      "cell_type": "code",
      "metadata": {
        "id": "cw-5B2NADvUh",
        "colab_type": "code",
        "colab": {
          "base_uri": "https://localhost:8080/",
          "height": 348
        },
        "outputId": "4a420d89-ab6e-451b-9411-c5b716c7ecef"
      },
      "source": [
        "train = pd.read_csv('/content/drive/My Drive/input/train.csv')\n",
        "print(train.head())\n",
        "test = pd.read_csv('/content/drive/My Drive/input/test.csv')\n",
        "print(test.head())\n",
        "print (f\"The train set shape:{train.shape}\")\n",
        "print (f\"The train set shape:{test.shape}\")"
      ],
      "execution_count": 6,
      "outputs": [
        {
          "output_type": "stream",
          "text": [
            "   Id  MSSubClass MSZoning  ...  SaleType  SaleCondition SalePrice\n",
            "0   1          60       RL  ...        WD         Normal    208500\n",
            "1   2          20       RL  ...        WD         Normal    181500\n",
            "2   3          60       RL  ...        WD         Normal    223500\n",
            "3   4          70       RL  ...        WD        Abnorml    140000\n",
            "4   5          60       RL  ...        WD         Normal    250000\n",
            "\n",
            "[5 rows x 81 columns]\n",
            "     Id  MSSubClass MSZoning  ...  YrSold  SaleType SaleCondition\n",
            "0  1461          20       RH  ...    2010        WD        Normal\n",
            "1  1462          20       RL  ...    2010        WD        Normal\n",
            "2  1463          60       RL  ...    2010        WD        Normal\n",
            "3  1464          60       RL  ...    2010        WD        Normal\n",
            "4  1465         120       RL  ...    2010        WD        Normal\n",
            "\n",
            "[5 rows x 80 columns]\n",
            "The train set shape:(1460, 81)\n",
            "The train set shape:(1459, 80)\n"
          ],
          "name": "stdout"
        }
      ]
    },
    {
      "cell_type": "code",
      "metadata": {
        "id": "yCgsVGRLEVn-",
        "colab_type": "code",
        "colab": {
          "base_uri": "https://localhost:8080/",
          "height": 35
        },
        "outputId": "52928b3e-9ce8-4753-d10c-3dbe357b2c95"
      },
      "source": [
        "!ls \"/content/drive/My Drive\""
      ],
      "execution_count": 5,
      "outputs": [
        {
          "output_type": "stream",
          "text": [
            "'Colab Notebooks'  'Getting started.pdf'   input\n"
          ],
          "name": "stdout"
        }
      ]
    },
    {
      "cell_type": "code",
      "metadata": {
        "id": "IoVkevR2IPVk",
        "colab_type": "code",
        "colab": {}
      },
      "source": [
        "def missing_percentage(df):\n",
        "    \"\"\"This function takes a DataFrame(df) as input and returns two columns, total missing values and total missing values percentage\"\"\"\n",
        "    ## the two following line may seem complicated but its actually very simple. \n",
        "    total = df.isnull().sum().sort_values(ascending = False)[df.isnull().sum().sort_values(ascending = False) != 0]\n",
        "    percent = round(df.isnull().sum().sort_values(ascending = False)/len(df)*100,2)[round(df.isnull().sum().sort_values(ascending = False)/len(df)*100,2) != 0]\n",
        "    return pd.concat([total, percent], axis=1, keys=['Total','Percent'])\n",
        "\n",
        "missing_percentage(train)"
      ],
      "execution_count": 0,
      "outputs": []
    },
    {
      "cell_type": "code",
      "metadata": {
        "id": "_OpxNinqIi--",
        "colab_type": "code",
        "colab": {}
      },
      "source": [
        "missing_percentage(test)"
      ],
      "execution_count": 0,
      "outputs": []
    },
    {
      "cell_type": "code",
      "metadata": {
        "id": "Z1KgHVS_ItDU",
        "colab_type": "code",
        "colab": {}
      },
      "source": [
        "# Drop outliers \n",
        "train = train[train.GrLivArea < 4500]\n",
        "train.reset_index(drop = True, inplace=True)\n",
        "\n",
        "# Save a copy of the dataset\n",
        "previous_train = train.copy()"
      ],
      "execution_count": 0,
      "outputs": []
    },
    {
      "cell_type": "code",
      "metadata": {
        "id": "HjJZvzgXI22V",
        "colab_type": "code",
        "colab": {}
      },
      "source": [
        "## trainsforming target variable using numpy.log1p, \n",
        "train[\"SalePrice\"] = np.log1p(train[\"SalePrice\"])"
      ],
      "execution_count": 0,
      "outputs": []
    },
    {
      "cell_type": "code",
      "metadata": {
        "id": "JAtjCDu5JH_Y",
        "colab_type": "code",
        "colab": {}
      },
      "source": [
        "train.drop(columns=['Id'],axis=1, inplace=True)\n",
        "test.drop(columns=['Id'],axis=1, inplace=True)\n",
        "\n",
        "## Saving the target values in \"y_train\". \n",
        "y = train['SalePrice'].reset_index(drop=True)\n",
        "\n",
        "# getting a copy of train\n",
        "previous_train = train.copy()"
      ],
      "execution_count": 0,
      "outputs": []
    },
    {
      "cell_type": "code",
      "metadata": {
        "id": "GvejIGuHJulx",
        "colab_type": "code",
        "colab": {}
      },
      "source": [
        "## Combining train and test datasets together so that we can do all the work at once. \n",
        "all_data = pd.concat((train, test)).reset_index(drop = True)\n",
        "## Dropping the target variable. \n",
        "all_data.drop(['SalePrice'], axis = 1, inplace = True)"
      ],
      "execution_count": 0,
      "outputs": []
    },
    {
      "cell_type": "code",
      "metadata": {
        "id": "nTjkHVVPJvbw",
        "colab_type": "code",
        "colab": {}
      },
      "source": [
        "missing_val_col = [\"Alley\", \n",
        "                   \"PoolQC\", \n",
        "                   \"MiscFeature\",\n",
        "                   \"Fence\",\n",
        "                   \"FireplaceQu\",\n",
        "                   \"GarageType\",\n",
        "                   \"GarageFinish\",\n",
        "                   \"GarageQual\",\n",
        "                   \"GarageCond\",\n",
        "                   'BsmtQual',\n",
        "                   'BsmtCond',\n",
        "                   'BsmtExposure',\n",
        "                   'BsmtFinType1',\n",
        "                   'BsmtFinType2',\n",
        "                   'MasVnrType']\n",
        "\n",
        "for i in missing_val_col:\n",
        "    all_data[i] = all_data[i].fillna('None')"
      ],
      "execution_count": 0,
      "outputs": []
    },
    {
      "cell_type": "code",
      "metadata": {
        "id": "QZAEZrI8J0RC",
        "colab_type": "code",
        "colab": {}
      },
      "source": [
        "missing_val_col2 = ['BsmtFinSF1',\n",
        "                    'BsmtFinSF2',\n",
        "                    'BsmtUnfSF',\n",
        "                    'TotalBsmtSF',\n",
        "                    'BsmtFullBath', \n",
        "                    'BsmtHalfBath', \n",
        "                    'GarageYrBlt',\n",
        "                    'GarageArea',\n",
        "                    'GarageCars',\n",
        "                    'MasVnrArea']\n",
        "\n",
        "for i in missing_val_col2:\n",
        "    all_data[i] = all_data[i].fillna(0)"
      ],
      "execution_count": 0,
      "outputs": []
    },
    {
      "cell_type": "code",
      "metadata": {
        "id": "Sayq4I9QJ39H",
        "colab_type": "code",
        "colab": {}
      },
      "source": [
        "## Replaced all missing values in LotFrontage by imputing the median value of each neighborhood. \n",
        "all_data['LotFrontage'] = all_data.groupby('Neighborhood')['LotFrontage'].transform( lambda x: x.fillna(x.mean()))"
      ],
      "execution_count": 0,
      "outputs": []
    },
    {
      "cell_type": "code",
      "metadata": {
        "id": "hU4x9lCNKEDQ",
        "colab_type": "code",
        "colab": {}
      },
      "source": [
        "## Zoning class are given in numerical; therefore converted to categorical variables. \n",
        "all_data['MSSubClass'] = all_data['MSSubClass'].astype(str)\n",
        "all_data['MSZoning'] = all_data.groupby('MSSubClass')['MSZoning'].transform(lambda x: x.fillna(x.mode()[0]))"
      ],
      "execution_count": 0,
      "outputs": []
    },
    {
      "cell_type": "code",
      "metadata": {
        "id": "auHRbFn3KJTk",
        "colab_type": "code",
        "colab": {}
      },
      "source": [
        "all_data['YrSold'] = all_data['YrSold'].astype(str)\n",
        "all_data['MoSold'] = all_data['MoSold'].astype(str)"
      ],
      "execution_count": 0,
      "outputs": []
    },
    {
      "cell_type": "code",
      "metadata": {
        "id": "hsszuPQCKNf1",
        "colab_type": "code",
        "colab": {}
      },
      "source": [
        "all_data['Functional'] = all_data['Functional'].fillna('Typ') \n",
        "all_data['Utilities'] = all_data['Utilities'].fillna('AllPub') \n",
        "all_data['Exterior1st'] = all_data['Exterior1st'].fillna(all_data['Exterior1st'].mode()[0]) \n",
        "all_data['Exterior2nd'] = all_data['Exterior2nd'].fillna(all_data['Exterior2nd'].mode()[0])\n",
        "all_data['KitchenQual'] = all_data['KitchenQual'].fillna(\"TA\") \n",
        "all_data['SaleType'] = all_data['SaleType'].fillna(all_data['SaleType'].mode()[0])\n",
        "all_data['Electrical'] = all_data['Electrical'].fillna(\"SBrkr\")"
      ],
      "execution_count": 0,
      "outputs": []
    },
    {
      "cell_type": "code",
      "metadata": {
        "id": "Pimmu7WDKRXR",
        "colab_type": "code",
        "colab": {
          "base_uri": "https://localhost:8080/",
          "height": 49
        },
        "outputId": "9ce2d884-4db2-4eb1-980f-e55c823f1f18"
      },
      "source": [
        "missing_percentage(all_data)"
      ],
      "execution_count": 20,
      "outputs": [
        {
          "output_type": "execute_result",
          "data": {
            "text/html": [
              "<div>\n",
              "<style scoped>\n",
              "    .dataframe tbody tr th:only-of-type {\n",
              "        vertical-align: middle;\n",
              "    }\n",
              "\n",
              "    .dataframe tbody tr th {\n",
              "        vertical-align: top;\n",
              "    }\n",
              "\n",
              "    .dataframe thead th {\n",
              "        text-align: right;\n",
              "    }\n",
              "</style>\n",
              "<table border=\"1\" class=\"dataframe\">\n",
              "  <thead>\n",
              "    <tr style=\"text-align: right;\">\n",
              "      <th></th>\n",
              "      <th>Total</th>\n",
              "      <th>Percent</th>\n",
              "    </tr>\n",
              "  </thead>\n",
              "  <tbody>\n",
              "  </tbody>\n",
              "</table>\n",
              "</div>"
            ],
            "text/plain": [
              "Empty DataFrame\n",
              "Columns: [Total, Percent]\n",
              "Index: []"
            ]
          },
          "metadata": {
            "tags": []
          },
          "execution_count": 20
        }
      ]
    },
    {
      "cell_type": "code",
      "metadata": {
        "id": "Yv54O7TrKUAv",
        "colab_type": "code",
        "colab": {
          "base_uri": "https://localhost:8080/",
          "height": 641
        },
        "outputId": "08ff139e-55b1-45cf-a25c-7bca55437e47"
      },
      "source": [
        "### Fixing Skewness\n",
        "numeric_feats = all_data.dtypes[all_data.dtypes != \"object\"].index\n",
        "\n",
        "skewed_feats = all_data[numeric_feats].apply(lambda x: skew(x)).sort_values(ascending=False)\n",
        "\n",
        "skewed_feats"
      ],
      "execution_count": 21,
      "outputs": [
        {
          "output_type": "execute_result",
          "data": {
            "text/plain": [
              "MiscVal          21.939672\n",
              "PoolArea         17.688664\n",
              "LotArea          13.109495\n",
              "LowQualFinSF     12.084539\n",
              "3SsnPorch        11.372080\n",
              "KitchenAbvGr      4.300550\n",
              "BsmtFinSF2        4.144503\n",
              "EnclosedPorch     4.002344\n",
              "ScreenPorch       3.945101\n",
              "BsmtHalfBath      3.929996\n",
              "MasVnrArea        2.621719\n",
              "OpenPorchSF       2.529358\n",
              "WoodDeckSF        1.844792\n",
              "1stFlrSF          1.257286\n",
              "GrLivArea         1.068750\n",
              "LotFrontage       1.058803\n",
              "BsmtFinSF1        0.980645\n",
              "BsmtUnfSF         0.919688\n",
              "2ndFlrSF          0.861556\n",
              "TotRmsAbvGrd      0.749232\n",
              "Fireplaces        0.725278\n",
              "HalfBath          0.696666\n",
              "TotalBsmtSF       0.671751\n",
              "BsmtFullBath      0.622415\n",
              "OverallCond       0.569314\n",
              "BedroomAbvGr      0.326568\n",
              "GarageArea        0.216857\n",
              "OverallQual       0.189591\n",
              "FullBath          0.165514\n",
              "GarageCars       -0.219297\n",
              "YearRemodAdd     -0.450134\n",
              "YearBuilt        -0.599194\n",
              "GarageYrBlt      -3.904632\n",
              "dtype: float64"
            ]
          },
          "metadata": {
            "tags": []
          },
          "execution_count": 21
        }
      ]
    },
    {
      "cell_type": "code",
      "metadata": {
        "id": "L4n-0OkhKbge",
        "colab_type": "code",
        "colab": {
          "base_uri": "https://localhost:8080/",
          "height": 110
        },
        "outputId": "db45751f-0de6-47f5-8ea5-d140dfbdf5ab"
      },
      "source": [
        "## Fixing Skewed features using boxcox transformation. \n",
        "\n",
        "\n",
        "def fixing_skewness(df):\n",
        "    \"\"\"\n",
        "    This function takes in a dataframe and return fixed skewed dataframe\n",
        "    \"\"\"\n",
        "    ## Import necessary modules \n",
        "    from scipy.stats import skew\n",
        "    from scipy.special import boxcox1p\n",
        "    from scipy.stats import boxcox_normmax\n",
        "    \n",
        "    ## Getting all the data that are not of \"object\" type. \n",
        "    numeric_feats = df.dtypes[df.dtypes != \"object\"].index\n",
        "\n",
        "    # Check the skew of all numerical features\n",
        "    skewed_feats = df[numeric_feats].apply(lambda x: skew(x)).sort_values(ascending=False)\n",
        "    high_skew = skewed_feats[abs(skewed_feats) > 0.5]\n",
        "    skewed_features = high_skew.index\n",
        "\n",
        "    for feat in skewed_features:\n",
        "        df[feat] = boxcox1p(df[feat], boxcox_normmax(df[feat] + 1))\n",
        "\n",
        "fixing_skewness(all_data)"
      ],
      "execution_count": 22,
      "outputs": [
        {
          "output_type": "stream",
          "text": [
            "/usr/local/lib/python3.6/dist-packages/scipy/stats/stats.py:3508: PearsonRConstantInputWarning: An input array is constant; the correlation coefficent is not defined.\n",
            "  warnings.warn(PearsonRConstantInputWarning())\n",
            "/usr/local/lib/python3.6/dist-packages/scipy/stats/stats.py:3538: PearsonRNearConstantInputWarning: An input array is nearly constant; the computed correlation coefficent may be inaccurate.\n",
            "  warnings.warn(PearsonRNearConstantInputWarning())\n"
          ],
          "name": "stderr"
        }
      ]
    },
    {
      "cell_type": "code",
      "metadata": {
        "id": "wC521MdgKl10",
        "colab_type": "code",
        "colab": {}
      },
      "source": [
        "# feture engineering a new feature \"TotalFS\"\n",
        "all_data['TotalSF'] = (all_data['TotalBsmtSF'] \n",
        "                       + all_data['1stFlrSF'] \n",
        "                       + all_data['2ndFlrSF'])\n",
        "\n",
        "all_data['YrBltAndRemod'] = all_data['YearBuilt'] + all_data['YearRemodAdd']\n",
        "\n",
        "all_data['Total_sqr_footage'] = (all_data['BsmtFinSF1'] \n",
        "                                 + all_data['BsmtFinSF2'] \n",
        "                                 + all_data['1stFlrSF'] \n",
        "                                 + all_data['2ndFlrSF']\n",
        "                                )\n",
        "                                 \n",
        "\n",
        "all_data['Total_Bathrooms'] = (all_data['FullBath'] \n",
        "                               + (0.5 * all_data['HalfBath']) \n",
        "                               + all_data['BsmtFullBath'] \n",
        "                               + (0.5 * all_data['BsmtHalfBath'])\n",
        "                              )\n",
        "                               \n",
        "\n",
        "all_data['Total_porch_sf'] = (all_data['OpenPorchSF'] \n",
        "                              + all_data['3SsnPorch'] \n",
        "                              + all_data['EnclosedPorch'] \n",
        "                              + all_data['ScreenPorch'] \n",
        "                              + all_data['WoodDeckSF']\n",
        "                             )"
      ],
      "execution_count": 0,
      "outputs": []
    },
    {
      "cell_type": "code",
      "metadata": {
        "id": "wXHo1IimKqbP",
        "colab_type": "code",
        "colab": {}
      },
      "source": [
        "all_data = all_data.drop(['Utilities', 'Street', 'PoolQC',], axis=1)"
      ],
      "execution_count": 0,
      "outputs": []
    },
    {
      "cell_type": "code",
      "metadata": {
        "id": "bflQZASHKuAd",
        "colab_type": "code",
        "colab": {
          "base_uri": "https://localhost:8080/",
          "height": 35
        },
        "outputId": "5be403a7-ad9e-4009-dc13-97f30ff14491"
      },
      "source": [
        "final_features = pd.get_dummies(all_data).reset_index(drop=True)\n",
        "final_features.shape"
      ],
      "execution_count": 26,
      "outputs": [
        {
          "output_type": "execute_result",
          "data": {
            "text/plain": [
              "(2917, 328)"
            ]
          },
          "metadata": {
            "tags": []
          },
          "execution_count": 26
        }
      ]
    },
    {
      "cell_type": "code",
      "metadata": {
        "id": "nWA-ygsaK55i",
        "colab_type": "code",
        "colab": {}
      },
      "source": [
        "X = final_features.iloc[:len(y), :]\n",
        "\n",
        "X_sub = final_features.iloc[len(y):, :]\n",
        "\n",
        "outliers = [30, 88, 462, 631, 1322]\n",
        "X = X.drop(X.index[outliers])\n",
        "y = y.drop(y.index[outliers])"
      ],
      "execution_count": 0,
      "outputs": []
    },
    {
      "cell_type": "code",
      "metadata": {
        "id": "LB7ZLiIZLosQ",
        "colab_type": "code",
        "colab": {}
      },
      "source": [
        "def overfit_reducer(df):\n",
        "    \"\"\"\n",
        "    This function takes in a dataframe and returns a list of features that are overfitted.\n",
        "    \"\"\"\n",
        "    overfit = []\n",
        "    for i in df.columns:\n",
        "        counts = df[i].value_counts()\n",
        "        zeros = counts.iloc[0]\n",
        "        if zeros / len(df) * 100 > 99.94:\n",
        "            overfit.append(i)\n",
        "    overfit = list(overfit)\n",
        "    return overfit\n",
        "\n",
        "\n",
        "overfitted_features = overfit_reducer(X)\n",
        "\n",
        "X = X.drop(overfitted_features, axis=1)\n",
        "X_sub = X_sub.drop(overfitted_features, axis=1)"
      ],
      "execution_count": 0,
      "outputs": []
    },
    {
      "cell_type": "code",
      "metadata": {
        "id": "6Oi5SsE7MB3W",
        "colab_type": "code",
        "colab": {
          "base_uri": "https://localhost:8080/",
          "height": 35
        },
        "outputId": "eacc1534-b1b8-4345-d9c4-248782b65bc0"
      },
      "source": [
        "X.shape,y.shape, X_sub.shape"
      ],
      "execution_count": 30,
      "outputs": [
        {
          "output_type": "execute_result",
          "data": {
            "text/plain": [
              "((1453, 327), (1453,), (1459, 327))"
            ]
          },
          "metadata": {
            "tags": []
          },
          "execution_count": 30
        }
      ]
    },
    {
      "cell_type": "code",
      "metadata": {
        "id": "ZMqARPMlMEOU",
        "colab_type": "code",
        "colab": {}
      },
      "source": [
        "from sklearn.model_selection import train_test_split\n",
        "X_train, X_test, y_train, y_test = train_test_split(X, y,test_size = .33, random_state = 0)"
      ],
      "execution_count": 0,
      "outputs": []
    },
    {
      "cell_type": "code",
      "metadata": {
        "id": "vR52vAIKMQsS",
        "colab_type": "code",
        "colab": {
          "base_uri": "https://localhost:8080/",
          "height": 35
        },
        "outputId": "566701c2-5833-400b-d203-55ebc1474891"
      },
      "source": [
        "from sklearn.linear_model import LinearRegression\n",
        "lin_reg = LinearRegression()\n",
        "lin_reg.fit(X_train, y_train)"
      ],
      "execution_count": 34,
      "outputs": [
        {
          "output_type": "execute_result",
          "data": {
            "text/plain": [
              "LinearRegression(copy_X=True, fit_intercept=True, n_jobs=None, normalize=False)"
            ]
          },
          "metadata": {
            "tags": []
          },
          "execution_count": 34
        }
      ]
    },
    {
      "cell_type": "code",
      "metadata": {
        "id": "VQtKM9lKPSG5",
        "colab_type": "code",
        "colab": {
          "base_uri": "https://localhost:8080/",
          "height": 35
        },
        "outputId": "a6263e1d-f1e2-4c48-818f-891af1ef6fc4"
      },
      "source": [
        "from sklearn.metrics import mean_squared_error\n",
        "y_pred = lin_reg.predict(X_test)\n",
        "mean_squared_error(y_test, y_pred)"
      ],
      "execution_count": 35,
      "outputs": [
        {
          "output_type": "execute_result",
          "data": {
            "text/plain": [
              "0.10340048984194873"
            ]
          },
          "metadata": {
            "tags": []
          },
          "execution_count": 35
        }
      ]
    },
    {
      "cell_type": "code",
      "metadata": {
        "id": "wYal-qV-P4MA",
        "colab_type": "code",
        "colab": {
          "base_uri": "https://localhost:8080/",
          "height": 403
        },
        "outputId": "ef6d65cd-b779-4a71-e12c-d70bd6b989c3"
      },
      "source": [
        "## Ridge Regression\n",
        "from sklearn.linear_model import Ridge\n",
        "from sklearn.metrics import mean_absolute_error, mean_squared_error\n",
        "alpha_ridge = [-3,-2,-1,1e-15, 1e-10, 1e-8,1e-5,1e-4, 1e-3,1e-2,0.5,1,1.5, 2,3,4, 5, 10, 20, 30, 40]\n",
        "ridge_mse = {}\n",
        "ridge_rss = {}\n",
        "for i in alpha_ridge:\n",
        "  ridge = Ridge(alpha=i, normalize=True)\n",
        "  ridge.fit(X_train, y_train)\n",
        "  y_pred = ridge.predict(X_test)\n",
        "\n",
        "  mse = mean_squared_error(y_test, y_pred)\n",
        "  rss = sum((y_pred-y_test)**2)\n",
        "  ridge_mse[i] = mse\n",
        "  ridge_rss[i] = rss\n",
        "\n",
        "for key,value in sorted(ridge_mse.items(), key=lambda item: item[1]):\n",
        "  print (\"%s : %s\" % (key, value))"
      ],
      "execution_count": 37,
      "outputs": [
        {
          "output_type": "stream",
          "text": [
            "0.01 : 0.012035728013982698\n",
            "0.001 : 0.012324963413838149\n",
            "0.5 : 0.012336473267980163\n",
            "1e-15 : 0.012366157197345344\n",
            "0.0001 : 0.012367827029296626\n",
            "1e-05 : 0.01237234571299551\n",
            "1e-08 : 0.012372850091655294\n",
            "1e-10 : 0.01237285156656751\n",
            "1 : 0.013740843635846215\n",
            "1.5 : 0.01520475341003125\n",
            "2 : 0.016687245587909676\n",
            "3 : 0.019664923427896157\n",
            "4 : 0.02262632320857825\n",
            "5 : 0.025548078023446465\n",
            "10 : 0.03920056089987338\n",
            "20 : 0.06105755605407091\n",
            "30 : 0.07698942538166582\n",
            "40 : 0.08887943996456095\n",
            "-2 : 28.783058937264617\n",
            "-3 : 167.75301895440515\n",
            "-1 : 459.07935207718776\n"
          ],
          "name": "stdout"
        }
      ]
    },
    {
      "cell_type": "code",
      "metadata": {
        "id": "v3uSgPY0UA2w",
        "colab_type": "code",
        "colab": {
          "base_uri": "https://localhost:8080/",
          "height": 533
        },
        "outputId": "469ecaa3-9e1b-419a-ad6f-a7a514cc76c8"
      },
      "source": [
        "## Lasso regression\n",
        "from sklearn.linear_model import Lasso \n",
        "temp_rss = {}\n",
        "temp_mse = {}\n",
        "for i in alpha_ridge:\n",
        "    ## Assigin each model. \n",
        "    lasso_reg = Lasso(alpha= i, normalize=True)\n",
        "    ## fit the model. \n",
        "    lasso_reg.fit(X_train, y_train)\n",
        "    ## Predicting the target value based on \"Test_x\"\n",
        "    y_pred = lasso_reg.predict(X_test)\n",
        "\n",
        "    mse = mean_squared_error(y_test, y_pred)\n",
        "    rss = sum((y_pred-y_test)**2)\n",
        "    temp_mse[i] = mse\n",
        "    temp_rss[i] = rss\n",
        "\n",
        "for key, value in sorted(temp_mse.items(), key=lambda item: item[1]):\n",
        "    print(\"%s: %s\" % (key, value))"
      ],
      "execution_count": 38,
      "outputs": [
        {
          "output_type": "stream",
          "text": [
            "/usr/local/lib/python3.6/dist-packages/sklearn/linear_model/_coordinate_descent.py:476: ConvergenceWarning: Objective did not converge. You might want to increase the number of iterations. Duality gap: 2.7636303067469385, tolerance: 0.014950423727646638\n",
            "  positive)\n",
            "/usr/local/lib/python3.6/dist-packages/sklearn/linear_model/_coordinate_descent.py:476: ConvergenceWarning: Objective did not converge. You might want to increase the number of iterations. Duality gap: 1.0577750744054861, tolerance: 0.014950423727646638\n",
            "  positive)\n",
            "/usr/local/lib/python3.6/dist-packages/sklearn/linear_model/_coordinate_descent.py:476: ConvergenceWarning: Objective did not converge. You might want to increase the number of iterations. Duality gap: 1.0474469118324232, tolerance: 0.014950423727646638\n",
            "  positive)\n"
          ],
          "name": "stderr"
        },
        {
          "output_type": "stream",
          "text": [
            "0.0001: 0.010059720035277685\n",
            "1e-05: 0.011542234861727542\n",
            "1e-08: 0.01240911266612316\n",
            "1e-10: 0.012414511832515263\n",
            "1e-15: 0.012414561789814166\n",
            "0.001: 0.018344141572227482\n",
            "0.01: 0.15998234085337287\n",
            "0.5: 0.16529633945001213\n",
            "1: 0.16529633945001213\n",
            "1.5: 0.16529633945001213\n",
            "2: 0.16529633945001213\n",
            "3: 0.16529633945001213\n",
            "4: 0.16529633945001213\n",
            "5: 0.16529633945001213\n",
            "10: 0.16529633945001213\n",
            "20: 0.16529633945001213\n",
            "30: 0.16529633945001213\n",
            "40: 0.16529633945001213\n",
            "-1: 13986853879.971066\n",
            "-2: 55947414930.2535\n",
            "-3: 125881683150.86176\n"
          ],
          "name": "stdout"
        }
      ]
    },
    {
      "cell_type": "code",
      "metadata": {
        "id": "eQcJ8SF_VTpO",
        "colab_type": "code",
        "colab": {
          "base_uri": "https://localhost:8080/",
          "height": 533
        },
        "outputId": "52ae3a06-c9bb-4a2b-b35e-b785f83937f2"
      },
      "source": [
        "## Elastic Net\n",
        "from sklearn.linear_model import ElasticNet\n",
        "temp_rss = {}\n",
        "temp_mse = {}\n",
        "for i in alpha_ridge:\n",
        "    ## Assigin each model. \n",
        "    lasso_reg = ElasticNet(alpha= i, normalize=True)\n",
        "    ## fit the model. \n",
        "    lasso_reg.fit(X_train, y_train)\n",
        "    ## Predicting the target value based on \"Test_x\"\n",
        "    y_pred = lasso_reg.predict(X_test)\n",
        "\n",
        "    mse = mean_squared_error(y_test, y_pred)\n",
        "    rss = sum((y_pred-y_test)**2)\n",
        "    temp_mse[i] = mse\n",
        "    temp_rss[i] = rss\n",
        "\n",
        "for key, value in sorted(temp_mse.items(), key=lambda item: item[1]):\n",
        "    print(\"%s: %s\" % (key, value))"
      ],
      "execution_count": 39,
      "outputs": [
        {
          "output_type": "stream",
          "text": [
            "/usr/local/lib/python3.6/dist-packages/sklearn/linear_model/_coordinate_descent.py:476: ConvergenceWarning: Objective did not converge. You might want to increase the number of iterations. Duality gap: 2.7638425479007855, tolerance: 0.014950423727646638\n",
            "  positive)\n",
            "/usr/local/lib/python3.6/dist-packages/sklearn/linear_model/_coordinate_descent.py:476: ConvergenceWarning: Objective did not converge. You might want to increase the number of iterations. Duality gap: 1.9683207688689468, tolerance: 0.014950423727646638\n",
            "  positive)\n",
            "/usr/local/lib/python3.6/dist-packages/sklearn/linear_model/_coordinate_descent.py:476: ConvergenceWarning: Objective did not converge. You might want to increase the number of iterations. Duality gap: 1.9551019483209089, tolerance: 0.014950423727646638\n",
            "  positive)\n"
          ],
          "name": "stderr"
        },
        {
          "output_type": "stream",
          "text": [
            "0.0001: 0.010409665251152797\n",
            "1e-05: 0.011769077825965545\n",
            "1e-08: 0.012411181272968086\n",
            "1e-10: 0.012414529091886606\n",
            "1e-15: 0.012414561789986919\n",
            "0.001: 0.014958770141825855\n",
            "0.01: 0.10884275991631845\n",
            "0.5: 0.16529633945001213\n",
            "1: 0.16529633945001213\n",
            "1.5: 0.16529633945001213\n",
            "2: 0.16529633945001213\n",
            "3: 0.16529633945001213\n",
            "4: 0.16529633945001213\n",
            "5: 0.16529633945001213\n",
            "10: 0.16529633945001213\n",
            "20: 0.16529633945001213\n",
            "30: 0.16529633945001213\n",
            "40: 0.16529633945001213\n",
            "-3: 5.1737078345948255\n",
            "-2: 5.250886735676229\n",
            "-1: 5.493342682133386\n"
          ],
          "name": "stdout"
        }
      ]
    },
    {
      "cell_type": "code",
      "metadata": {
        "id": "9rhhZCSUkK2-",
        "colab_type": "code",
        "colab": {}
      },
      "source": [
        "kfolds = KFold(n_splits=10, shuffle=True, random_state=42)\n",
        "\n",
        "def rmsle(y, y_pred):\n",
        "    return np.sqrt(mean_squared_error(y, y_pred))\n",
        "\n",
        "def cv_rmse(model, X, y):\n",
        "    rmse = np.sqrt(-cross_val_score(model, X, y, scoring=\"neg_mean_squared_error\", cv=kfolds))\n",
        "    return (rmse)"
      ],
      "execution_count": 0,
      "outputs": []
    },
    {
      "cell_type": "code",
      "metadata": {
        "id": "TBIXXhw8kiWh",
        "colab_type": "code",
        "colab": {}
      },
      "source": [
        "alphas_alt = [14.5, 14.6, 14.7, 14.8, 14.9, 15, 15.1, 15.2, 15.3, 15.4, 15.5]\n",
        "alphas2 = [5e-05, 0.0001, 0.0002, 0.0003, 0.0004, 0.0005, 0.0006, 0.0007, 0.0008]\n",
        "e_alphas = [0.0001, 0.0002, 0.0003, 0.0004, 0.0005, 0.0006, 0.0007]\n",
        "e_l1ratio = [0.8, 0.85, 0.9, 0.95, 0.99, 1]"
      ],
      "execution_count": 0,
      "outputs": []
    },
    {
      "cell_type": "code",
      "metadata": {
        "id": "Ct3d4fx_VjGH",
        "colab_type": "code",
        "colab": {}
      },
      "source": [
        "ridge = make_pipeline(RobustScaler(), RidgeCV(alphas=alphas_alt, cv=kfolds))\n",
        "lasso = make_pipeline(RobustScaler(), LassoCV(max_iter=1e7, \n",
        "                                              alphas=alphas2, \n",
        "                                              random_state=42, \n",
        "                                              cv=kfolds))\n",
        "elasticnet = make_pipeline(RobustScaler(), ElasticNetCV(max_iter=1e7, alphas=e_alphas, cv=kfolds, l1_ratio=e_l1ratio))                                \n",
        "svr = make_pipeline(RobustScaler(), SVR(C= 20, epsilon= 0.008, gamma=0.0003,))"
      ],
      "execution_count": 0,
      "outputs": []
    },
    {
      "cell_type": "code",
      "metadata": {
        "id": "RrAj3Z3tkcud",
        "colab_type": "code",
        "colab": {}
      },
      "source": [
        "gbr = GradientBoostingRegressor(n_estimators=3000, learning_rate=0.05, max_depth=4, max_features='sqrt', min_samples_leaf=15, min_samples_split=10, loss='huber', random_state =42)"
      ],
      "execution_count": 0,
      "outputs": []
    },
    {
      "cell_type": "code",
      "metadata": {
        "id": "l_CfH4Z_Dq0_",
        "colab_type": "code",
        "colab": {}
      },
      "source": [
        "lightgbm = LGBMRegressor(objective='regression', \n",
        "                                       num_leaves=4,\n",
        "                                       learning_rate=0.01, \n",
        "                                       n_estimators=5000,\n",
        "                                       max_bin=200, \n",
        "                                       bagging_fraction=0.75,\n",
        "                                       bagging_freq=5, \n",
        "                                       bagging_seed=7,\n",
        "                                       feature_fraction=0.2,\n",
        "                                       feature_fraction_seed=7,\n",
        "                                       verbose=-1,\n",
        "                                       )"
      ],
      "execution_count": 0,
      "outputs": []
    },
    {
      "cell_type": "code",
      "metadata": {
        "id": "0JfEtilDEFEs",
        "colab_type": "code",
        "colab": {}
      },
      "source": [
        "from xgboost import XGBRegressor\n",
        "xgboost = XGBRegressor(learning_rate=0.01,n_estimators=3460,\n",
        "                                     max_depth=3, min_child_weight=0,\n",
        "                                     gamma=0, subsample=0.7,\n",
        "                                     colsample_bytree=0.7,\n",
        "                                     objective='reg:linear', nthread=-1,\n",
        "                                     scale_pos_weight=1, seed=27,\n",
        "                                     reg_alpha=0.00006)"
      ],
      "execution_count": 0,
      "outputs": []
    },
    {
      "cell_type": "code",
      "metadata": {
        "id": "RsyMzDyqEIM0",
        "colab_type": "code",
        "colab": {}
      },
      "source": [
        "from mlxtend.regressor import StackingCVRegressor\n",
        "stack_gen = StackingCVRegressor(regressors=(ridge, lasso, elasticnet, xgboost, lightgbm),\n",
        "                                meta_regressor=xgboost,\n",
        "                                use_features_in_secondary=True)"
      ],
      "execution_count": 0,
      "outputs": []
    },
    {
      "cell_type": "code",
      "metadata": {
        "id": "Vhv4DsDrEjKx",
        "colab_type": "code",
        "colab": {}
      },
      "source": [
        "print ('Start the FIT')\n",
        "print ('Stack gen')\n",
        "stack_gen_model = stack_gen.fit(np.array(X_train), np.array(y_train))\n",
        "\n",
        "print('elasticnet')\n",
        "elastic_model_full_data = elasticnet.fit(X_train, y_train)\n",
        "\n",
        "print('Lasso')\n",
        "lasso_model_full_data = lasso.fit(X_train, y_train)\n",
        "\n",
        "print('Ridge') \n",
        "ridge_model_full_data = ridge.fit(X_train, y_train)\n",
        "\n",
        "print('Svr')\n",
        "svr_model_full_data = svr.fit(X_train, y_train)\n",
        "\n",
        "# print('GradientBoosting')\n",
        "# gbr_model_full_data = gbr.fit(X, y)\n",
        "\n",
        "print('xgboost')\n",
        "xgb_model_full_data = xgboost.fit(X_train, y_train)\n",
        "\n",
        "print('lightgbm')\n",
        "lgb_model_full_data = lightgbm.fit(X_train, y_train)"
      ],
      "execution_count": 0,
      "outputs": []
    },
    {
      "cell_type": "code",
      "metadata": {
        "id": "7wmlpiuxLHF6",
        "colab_type": "code",
        "colab": {}
      },
      "source": [
        ""
      ],
      "execution_count": 0,
      "outputs": []
    },
    {
      "cell_type": "code",
      "metadata": {
        "id": "z14l1mOuKtLp",
        "colab_type": "code",
        "colab": {
          "base_uri": "https://localhost:8080/",
          "height": 1000
        },
        "outputId": "fbb7e3e0-a79b-4620-ce2a-e561a2426196"
      },
      "source": [
        "stack_scores = cv_rmse(stack_gen, np.array(X_test), np.array(y_test))\n",
        "stack_scores.mean()\n",
        "stack_scores.std()"
      ],
      "execution_count": 54,
      "outputs": [
        {
          "output_type": "stream",
          "text": [
            "[18:39:21] WARNING: /workspace/src/objective/regression_obj.cu:152: reg:linear is now deprecated in favor of reg:squarederror.\n",
            "[18:39:28] WARNING: /workspace/src/objective/regression_obj.cu:152: reg:linear is now deprecated in favor of reg:squarederror.\n",
            "[18:39:34] WARNING: /workspace/src/objective/regression_obj.cu:152: reg:linear is now deprecated in favor of reg:squarederror.\n",
            "[18:39:41] WARNING: /workspace/src/objective/regression_obj.cu:152: reg:linear is now deprecated in favor of reg:squarederror.\n",
            "[18:39:48] WARNING: /workspace/src/objective/regression_obj.cu:152: reg:linear is now deprecated in favor of reg:squarederror.\n",
            "[18:39:59] WARNING: /workspace/src/objective/regression_obj.cu:152: reg:linear is now deprecated in favor of reg:squarederror.\n",
            "[18:40:22] WARNING: /workspace/src/objective/regression_obj.cu:152: reg:linear is now deprecated in favor of reg:squarederror.\n",
            "[18:42:10] WARNING: /workspace/src/objective/regression_obj.cu:152: reg:linear is now deprecated in favor of reg:squarederror.\n",
            "[18:42:16] WARNING: /workspace/src/objective/regression_obj.cu:152: reg:linear is now deprecated in favor of reg:squarederror.\n",
            "[18:42:23] WARNING: /workspace/src/objective/regression_obj.cu:152: reg:linear is now deprecated in favor of reg:squarederror.\n",
            "[18:42:30] WARNING: /workspace/src/objective/regression_obj.cu:152: reg:linear is now deprecated in favor of reg:squarederror.\n",
            "[18:42:37] WARNING: /workspace/src/objective/regression_obj.cu:152: reg:linear is now deprecated in favor of reg:squarederror.\n",
            "[18:42:48] WARNING: /workspace/src/objective/regression_obj.cu:152: reg:linear is now deprecated in favor of reg:squarederror.\n",
            "[18:43:08] WARNING: /workspace/src/objective/regression_obj.cu:152: reg:linear is now deprecated in favor of reg:squarederror.\n",
            "[18:45:03] WARNING: /workspace/src/objective/regression_obj.cu:152: reg:linear is now deprecated in favor of reg:squarederror.\n",
            "[18:45:10] WARNING: /workspace/src/objective/regression_obj.cu:152: reg:linear is now deprecated in favor of reg:squarederror.\n",
            "[18:45:17] WARNING: /workspace/src/objective/regression_obj.cu:152: reg:linear is now deprecated in favor of reg:squarederror.\n",
            "[18:45:24] WARNING: /workspace/src/objective/regression_obj.cu:152: reg:linear is now deprecated in favor of reg:squarederror.\n",
            "[18:45:30] WARNING: /workspace/src/objective/regression_obj.cu:152: reg:linear is now deprecated in favor of reg:squarederror.\n",
            "[18:45:41] WARNING: /workspace/src/objective/regression_obj.cu:152: reg:linear is now deprecated in favor of reg:squarederror.\n",
            "[18:46:01] WARNING: /workspace/src/objective/regression_obj.cu:152: reg:linear is now deprecated in favor of reg:squarederror.\n",
            "[18:48:11] WARNING: /workspace/src/objective/regression_obj.cu:152: reg:linear is now deprecated in favor of reg:squarederror.\n",
            "[18:48:18] WARNING: /workspace/src/objective/regression_obj.cu:152: reg:linear is now deprecated in favor of reg:squarederror.\n",
            "[18:48:25] WARNING: /workspace/src/objective/regression_obj.cu:152: reg:linear is now deprecated in favor of reg:squarederror.\n",
            "[18:48:31] WARNING: /workspace/src/objective/regression_obj.cu:152: reg:linear is now deprecated in favor of reg:squarederror.\n",
            "[18:48:38] WARNING: /workspace/src/objective/regression_obj.cu:152: reg:linear is now deprecated in favor of reg:squarederror.\n",
            "[18:48:49] WARNING: /workspace/src/objective/regression_obj.cu:152: reg:linear is now deprecated in favor of reg:squarederror.\n",
            "[18:49:10] WARNING: /workspace/src/objective/regression_obj.cu:152: reg:linear is now deprecated in favor of reg:squarederror.\n",
            "[18:51:24] WARNING: /workspace/src/objective/regression_obj.cu:152: reg:linear is now deprecated in favor of reg:squarederror.\n",
            "[18:51:31] WARNING: /workspace/src/objective/regression_obj.cu:152: reg:linear is now deprecated in favor of reg:squarederror.\n",
            "[18:51:38] WARNING: /workspace/src/objective/regression_obj.cu:152: reg:linear is now deprecated in favor of reg:squarederror.\n",
            "[18:51:44] WARNING: /workspace/src/objective/regression_obj.cu:152: reg:linear is now deprecated in favor of reg:squarederror.\n",
            "[18:51:51] WARNING: /workspace/src/objective/regression_obj.cu:152: reg:linear is now deprecated in favor of reg:squarederror.\n",
            "[18:52:02] WARNING: /workspace/src/objective/regression_obj.cu:152: reg:linear is now deprecated in favor of reg:squarederror.\n",
            "[18:52:24] WARNING: /workspace/src/objective/regression_obj.cu:152: reg:linear is now deprecated in favor of reg:squarederror.\n",
            "[18:54:50] WARNING: /workspace/src/objective/regression_obj.cu:152: reg:linear is now deprecated in favor of reg:squarederror.\n",
            "[18:54:57] WARNING: /workspace/src/objective/regression_obj.cu:152: reg:linear is now deprecated in favor of reg:squarederror.\n",
            "[18:55:04] WARNING: /workspace/src/objective/regression_obj.cu:152: reg:linear is now deprecated in favor of reg:squarederror.\n",
            "[18:55:11] WARNING: /workspace/src/objective/regression_obj.cu:152: reg:linear is now deprecated in favor of reg:squarederror.\n",
            "[18:55:17] WARNING: /workspace/src/objective/regression_obj.cu:152: reg:linear is now deprecated in favor of reg:squarederror.\n",
            "[18:55:29] WARNING: /workspace/src/objective/regression_obj.cu:152: reg:linear is now deprecated in favor of reg:squarederror.\n",
            "[18:55:51] WARNING: /workspace/src/objective/regression_obj.cu:152: reg:linear is now deprecated in favor of reg:squarederror.\n",
            "[18:58:09] WARNING: /workspace/src/objective/regression_obj.cu:152: reg:linear is now deprecated in favor of reg:squarederror.\n",
            "[18:58:16] WARNING: /workspace/src/objective/regression_obj.cu:152: reg:linear is now deprecated in favor of reg:squarederror.\n",
            "[18:58:23] WARNING: /workspace/src/objective/regression_obj.cu:152: reg:linear is now deprecated in favor of reg:squarederror.\n",
            "[18:58:30] WARNING: /workspace/src/objective/regression_obj.cu:152: reg:linear is now deprecated in favor of reg:squarederror.\n",
            "[18:58:36] WARNING: /workspace/src/objective/regression_obj.cu:152: reg:linear is now deprecated in favor of reg:squarederror.\n",
            "[18:58:48] WARNING: /workspace/src/objective/regression_obj.cu:152: reg:linear is now deprecated in favor of reg:squarederror.\n",
            "[18:59:12] WARNING: /workspace/src/objective/regression_obj.cu:152: reg:linear is now deprecated in favor of reg:squarederror.\n",
            "[19:01:23] WARNING: /workspace/src/objective/regression_obj.cu:152: reg:linear is now deprecated in favor of reg:squarederror.\n",
            "[19:01:30] WARNING: /workspace/src/objective/regression_obj.cu:152: reg:linear is now deprecated in favor of reg:squarederror.\n",
            "[19:01:36] WARNING: /workspace/src/objective/regression_obj.cu:152: reg:linear is now deprecated in favor of reg:squarederror.\n",
            "[19:01:43] WARNING: /workspace/src/objective/regression_obj.cu:152: reg:linear is now deprecated in favor of reg:squarederror.\n",
            "[19:01:50] WARNING: /workspace/src/objective/regression_obj.cu:152: reg:linear is now deprecated in favor of reg:squarederror.\n",
            "[19:02:01] WARNING: /workspace/src/objective/regression_obj.cu:152: reg:linear is now deprecated in favor of reg:squarederror.\n",
            "[19:02:23] WARNING: /workspace/src/objective/regression_obj.cu:152: reg:linear is now deprecated in favor of reg:squarederror.\n",
            "[19:04:37] WARNING: /workspace/src/objective/regression_obj.cu:152: reg:linear is now deprecated in favor of reg:squarederror.\n",
            "[19:04:44] WARNING: /workspace/src/objective/regression_obj.cu:152: reg:linear is now deprecated in favor of reg:squarederror.\n",
            "[19:04:51] WARNING: /workspace/src/objective/regression_obj.cu:152: reg:linear is now deprecated in favor of reg:squarederror.\n",
            "[19:04:58] WARNING: /workspace/src/objective/regression_obj.cu:152: reg:linear is now deprecated in favor of reg:squarederror.\n",
            "[19:05:04] WARNING: /workspace/src/objective/regression_obj.cu:152: reg:linear is now deprecated in favor of reg:squarederror.\n",
            "[19:05:16] WARNING: /workspace/src/objective/regression_obj.cu:152: reg:linear is now deprecated in favor of reg:squarederror.\n",
            "[19:05:37] WARNING: /workspace/src/objective/regression_obj.cu:152: reg:linear is now deprecated in favor of reg:squarederror.\n",
            "[19:08:07] WARNING: /workspace/src/objective/regression_obj.cu:152: reg:linear is now deprecated in favor of reg:squarederror.\n",
            "[19:08:14] WARNING: /workspace/src/objective/regression_obj.cu:152: reg:linear is now deprecated in favor of reg:squarederror.\n",
            "[19:08:21] WARNING: /workspace/src/objective/regression_obj.cu:152: reg:linear is now deprecated in favor of reg:squarederror.\n",
            "[19:08:27] WARNING: /workspace/src/objective/regression_obj.cu:152: reg:linear is now deprecated in favor of reg:squarederror.\n",
            "[19:08:34] WARNING: /workspace/src/objective/regression_obj.cu:152: reg:linear is now deprecated in favor of reg:squarederror.\n",
            "[19:08:45] WARNING: /workspace/src/objective/regression_obj.cu:152: reg:linear is now deprecated in favor of reg:squarederror.\n",
            "[19:09:06] WARNING: /workspace/src/objective/regression_obj.cu:152: reg:linear is now deprecated in favor of reg:squarederror.\n"
          ],
          "name": "stdout"
        },
        {
          "output_type": "execute_result",
          "data": {
            "text/plain": [
              "0.01916160340733946"
            ]
          },
          "metadata": {
            "tags": []
          },
          "execution_count": 54
        }
      ]
    },
    {
      "cell_type": "code",
      "metadata": {
        "id": "D-cXIwWkSK3_",
        "colab_type": "code",
        "colab": {}
      },
      "source": [
        "def model_rmse(model, X, y):\n",
        "  y_pred = model.predict(X)\n",
        "  rmse = np.sqrt(mean_squared_error(y, y_pred))\n",
        "  return rmse"
      ],
      "execution_count": 0,
      "outputs": []
    },
    {
      "cell_type": "code",
      "metadata": {
        "id": "eS9QJ2utHSAE",
        "colab_type": "code",
        "colab": {
          "base_uri": "https://localhost:8080/",
          "height": 164
        },
        "outputId": "848ec9f5-18d9-4748-c51d-df7f3bcb1ce9"
      },
      "source": [
        "print ('Stack gen')\n",
        "stack_y_pred = stack_gen.predict(np.array(X_test))\n",
        "stack_y_rmse = np.sqrt(mean_squared_error(y_test, stack_y_pred))\n",
        "print (f\"Stack_y_mse{stack_y_rmse}\")\n",
        "\n",
        "elasticnet_rmse = model_rmse(elastic_model_full_data, X_test, y_test)\n",
        "print (f\"ElasticNet_rmse {elasticnet_rmse}\")\n",
        "\n",
        "lasso_rmse = model_rmse(lasso_model_full_data, X_test, y_test)\n",
        "print (f\"Lasso_rmse {lasso_rmse}\")\n",
        "\n",
        "ridge_rmse = model_rmse(ridge_model_full_data, X_test, y_test)\n",
        "print (f\"Ridge_rmse {ridge_rmse}\")\n",
        "\n",
        "svr_rmse = model_rmse(svr_model_full_data, X_test, y_test)\n",
        "print (f\"SVR_rmse {svr_rmse}\")\n",
        "\n",
        "# print('GradientBoosting')\n",
        "# gbr_model_full_data = gbr.fit(X, y)\n",
        "xgb_rmse = model_rmse(xgb_model_full_data, X_test, y_test)\n",
        "print (f\"XGB_rmse {xgb_rmse}\")\n",
        "\n",
        "lgb_rmse = model_rmse(lgb_model_full_data, X_test, y_test)\n",
        "print (f\"LGB_rmse {lgb_rmse}\")"
      ],
      "execution_count": 61,
      "outputs": [
        {
          "output_type": "stream",
          "text": [
            "Stack gen\n",
            "Stack_y_mse0.10440831711889723\n",
            "ElasticNet_rmse 0.10057912234600361\n",
            "Lasso_rmse 0.10056180094303033\n",
            "Ridge_rmse 0.10200317505457247\n",
            "SVR_rmse 0.10123142093023578\n",
            "XGB_rmse 0.10669372593507585\n",
            "LGB_rmse 0.11027518714184463\n"
          ],
          "name": "stdout"
        }
      ]
    },
    {
      "cell_type": "code",
      "metadata": {
        "id": "MHL1Z2KFVjMg",
        "colab_type": "code",
        "colab": {}
      },
      "source": [
        "def blend_models_predict(X):\n",
        "    return ((0.1 * elastic_model_full_data.predict(X)) + \n",
        "            (0.05 * lasso_model_full_data.predict(X)) + \n",
        "            (0.2 * ridge_model_full_data.predict(X)) + \n",
        "            (0.1 * svr_model_full_data.predict(X)) + \n",
        "            (0.15 * xgb_model_full_data.predict(X)) + \n",
        "            (0.1 * lgb_model_full_data.predict(X)) + \n",
        "            (0.3 * stack_gen_model.predict(np.array(X))))"
      ],
      "execution_count": 0,
      "outputs": []
    },
    {
      "cell_type": "code",
      "metadata": {
        "id": "yV_N-qAeaHef",
        "colab_type": "code",
        "colab": {
          "base_uri": "https://localhost:8080/",
          "height": 35
        },
        "outputId": "48ba64ec-4bc9-4373-f9d5-813fceba435d"
      },
      "source": [
        "y_pred = blend_models_predict(X_test)\n",
        "blend_rmse = np.sqrt(mean_squared_error(y_test, y_pred))\n",
        "print (f\"Blend models prediction: {blend_rmse}\")"
      ],
      "execution_count": 71,
      "outputs": [
        {
          "output_type": "stream",
          "text": [
            "Blend models prediction: 0.09935979567565695\n"
          ],
          "name": "stdout"
        }
      ]
    },
    {
      "cell_type": "code",
      "metadata": {
        "id": "HquKuFRDbBb9",
        "colab_type": "code",
        "colab": {
          "base_uri": "https://localhost:8080/",
          "height": 35
        },
        "outputId": "d1d28a6a-5634-4c45-d413-b49852869d69"
      },
      "source": [
        "print (\"Predict submission\")\n",
        "predictions = blend_models_predict(X_sub)\n",
        "sub = pd.DataFrame(np.column_stack((test_idx, predictions)), columns=[\"id\", \"SalePrice\"])\n",
        "sub.loc[:] = sub.loc[:].astype(int)\n",
        "sub.to_csv(\"submission.csv\", index=False)"
      ],
      "execution_count": 76,
      "outputs": [
        {
          "output_type": "stream",
          "text": [
            "Predict submission\n"
          ],
          "name": "stdout"
        }
      ]
    },
    {
      "cell_type": "code",
      "metadata": {
        "id": "exw8AiZ6fS6_",
        "colab_type": "code",
        "colab": {}
      },
      "source": [
        "s = pd.read_csv(\"submission.csv\")"
      ],
      "execution_count": 0,
      "outputs": []
    },
    {
      "cell_type": "code",
      "metadata": {
        "id": "bu97qnn6faNI",
        "colab_type": "code",
        "colab": {
          "base_uri": "https://localhost:8080/",
          "height": 49
        },
        "outputId": "d410a26c-ed05-46af-869e-70459015f348"
      },
      "source": [
        "missing_percentage(s)"
      ],
      "execution_count": 81,
      "outputs": [
        {
          "output_type": "execute_result",
          "data": {
            "text/html": [
              "<div>\n",
              "<style scoped>\n",
              "    .dataframe tbody tr th:only-of-type {\n",
              "        vertical-align: middle;\n",
              "    }\n",
              "\n",
              "    .dataframe tbody tr th {\n",
              "        vertical-align: top;\n",
              "    }\n",
              "\n",
              "    .dataframe thead th {\n",
              "        text-align: right;\n",
              "    }\n",
              "</style>\n",
              "<table border=\"1\" class=\"dataframe\">\n",
              "  <thead>\n",
              "    <tr style=\"text-align: right;\">\n",
              "      <th></th>\n",
              "      <th>Total</th>\n",
              "      <th>Percent</th>\n",
              "    </tr>\n",
              "  </thead>\n",
              "  <tbody>\n",
              "  </tbody>\n",
              "</table>\n",
              "</div>"
            ],
            "text/plain": [
              "Empty DataFrame\n",
              "Columns: [Total, Percent]\n",
              "Index: []"
            ]
          },
          "metadata": {
            "tags": []
          },
          "execution_count": 81
        }
      ]
    },
    {
      "cell_type": "code",
      "metadata": {
        "id": "ODHWPCnOfif7",
        "colab_type": "code",
        "colab": {}
      },
      "source": [
        ""
      ],
      "execution_count": 0,
      "outputs": []
    }
  ]
}